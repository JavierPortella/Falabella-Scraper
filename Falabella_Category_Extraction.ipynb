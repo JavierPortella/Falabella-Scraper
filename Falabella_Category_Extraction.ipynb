{
 "cells": [
  {
   "cell_type": "code",
   "execution_count": 491,
   "id": "b48a3633",
   "metadata": {},
   "outputs": [],
   "source": [
    "from json import loads\n",
    "from pandas import DataFrame, merge, read_excel\n",
    "from selenium.webdriver import Chrome, ChromeOptions\n",
    "from selenium.webdriver.common.service import Service\n",
    "from webdriver_manager.chrome import ChromeDriverManager\n",
    "from selenium.webdriver.common.by import By\n",
    "from selenium.webdriver.support import expected_conditions as EC\n",
    "from selenium.webdriver.support.wait import WebDriverWait\n",
    "from selenium.common.exceptions import TimeoutException, ElementNotInteractableException\n",
    "from re import findall\n",
    "from time import sleep"
   ]
  },
  {
   "cell_type": "code",
   "execution_count": 398,
   "id": "3faf67d6",
   "metadata": {},
   "outputs": [],
   "source": [
    "class ScraperFalabella:\n",
    "    def __init__(self):\n",
    "        chrome_options = ChromeOptions()\n",
    "        prefs = {\"profile.default_content_setting_values.notifications\": 2}\n",
    "        chrome_options.add_experimental_option(\"prefs\", prefs)\n",
    "        self._driver = Chrome(\n",
    "            ChromeDriverManager().install(),\n",
    "            options=chrome_options\n",
    "        )\n",
    "        self._wait = WebDriverWait(self._driver, 8)\n",
    "\n",
    "    def enter_website(self, url):\n",
    "        self._driver.get(url)\n",
    "        self._driver.maximize_window()\n",
    "\n",
    "    def get_element(self, selector, path):\n",
    "        return self._wait.until(lambda x: x.find_element(selector, path))\n",
    "    \n",
    "    def get_elements(self, selector, path):\n",
    "        return self._wait.until(lambda x: x.find_elements(selector, path))\n",
    "        \n",
    "    def close_popups(self):\n",
    "        self.get_element(By.ID, \"testId-accept-cookies-btn\").click()\n",
    "        #self.get_element(By.CLASS_NAME, \"dy-lb-close\").click()\n",
    "        \n",
    "    def get_category_info(self):\n",
    "        self.get_element(By.CLASS_NAME, \"TopMenu-module_categoryWrapper__Q_tEE\").click()\n",
    "        category_list = self.get_elements(By.XPATH, \"//a[@class='SideMenu-module_itemWrapper__3IXOl']\")\n",
    "        category_links = []\n",
    "        category_info = {\n",
    "            \"Name\": [],\n",
    "            \"Link\": []\n",
    "        }\n",
    "        for category in category_list:\n",
    "            try:\n",
    "                category.click()\n",
    "                subcategory_list = self.get_elements(By.XPATH, \"//a[@class='SubCategories-module_hover-effect__1E3TD SubCategories-module_list-title__3bskI']\")\n",
    "                for subcategory in subcategory_list:\n",
    "                    if subcategory.get_attribute(\"href\").find(\"category\") == -1:\n",
    "                        continue\n",
    "                    subcategory_links.append(subcategory.get_attribute(\"href\"))\n",
    "            except TimeoutException as error:\n",
    "                continue\n",
    "        self._driver.get(subcategory_links[0])\n",
    "        modal = self.get_element(By.ID, \"testId-modal-close\")\n",
    "        modal.click()\n",
    "        for link in subcategory_links:\n",
    "            self._driver.get(link)\n",
    "            no_error = True\n",
    "            while no_error:\n",
    "                try:\n",
    "                    category = self.get_element(By.XPATH, \"//a[@class='jsx-2883309125 l1category']\")\n",
    "                    name = category.text\n",
    "                    category.click()\n",
    "                except ElementNotInteractableException:\n",
    "                    no_error = False\n",
    "            category_info[\"Name\"].append(name)\n",
    "            category_info[\"Link\"].append(self._driver.execute_script(\"return document.URL\"))\n",
    "        \n",
    "        return DataFrame(category_info)\n",
    "    \n",
    "    def get_subcategory_info(self, category_links):\n",
    "        subcategory_info = {\n",
    "            \"Link\": [],\n",
    "            \"Subcategory_1\": [],\n",
    "            \"Link_1\": [],\n",
    "        }\n",
    "        for category_level in category_links:\n",
    "            try:\n",
    "                scraper._driver.get(category_level)\n",
    "                data = self.get_element(By.XPATH, \"//script[@id='__NEXT_DATA__']\")\n",
    "                data_json = loads(data.get_attribute(\"text\"))\n",
    "                filters_value = data_json[\"props\"][\"pageProps\"][\"facets\"][:3]\n",
    "                for filter_value in filters_value:\n",
    "                    if filter_value[\"name\"] == \"Categoría\":\n",
    "                        data_values = filter_value[\"values\"]\n",
    "                        for item in data_values:\n",
    "                            title = item[\"title\"]\n",
    "                            subcategory_info[\"Link_1\"].append(\"https://tienda.falabella.com.pe/falabella-pe/category/\" + item[\"id\"] + \"/\" + title.replace(\" \", \"-\"))\n",
    "                            subcategory_info[\"Link\"].append(category_level)\n",
    "                            subcategory_info[\"Subcategory_1\"].append(title)\n",
    "                        break\n",
    "\n",
    "            except (KeyError, IndexError) as error:\n",
    "                print(error.__class__.__name__, category_level)\n",
    "                \n",
    "            except TimeoutException as error:\n",
    "                print(error.__class__.__name__, category_level)\n",
    "            \n",
    "        return DataFrame(subcategory_info)\n",
    "\n",
    "    def extract_categories(self):\n",
    "        df_category = self.get_category_info()\n",
    "        df_subcategory_1 = scraper.get_subcategory_info(df_category[\"Link\"])\n",
    "        df_subcategory_2 = scraper.get_subcategory_info(df_subcategory_1[\"Link_1\"])\n",
    "        df_subcategory_2.rename({\"Link\": \"Link_1\", \"Subcategory_1\":\"Subcategory_2\", \"Link_1\": \"Link_2\"}, axis=1,inplace=True)\n",
    "        df_subcategory_3 = scraper.get_subcategory_info(df_subcategory_2[\"Link_2\"])\n",
    "        df_subcategory_3.rename({\"Link\": \"Link_2\", \"Subcategory_1\":\"Subcategory_3\", \"Link_1\": \"Link_3\"}, axis=1,inplace=True)\n",
    "        df_subcategory_4 = scraper.get_subcategory_info(df_subcategory_3[\"Link_3\"])\n",
    "        df_subcategory_4.rename({\"Link\": \"Link_3\", \"Subcategory_1\":\"Subcategory_4\", \"Link_1\": \"Link_4\"}, axis=1,inplace=True)\n",
    "        "
   ]
  },
  {
   "cell_type": "code",
   "execution_count": 448,
   "id": "1ff2c6d4",
   "metadata": {
    "scrolled": false
   },
   "outputs": [
    {
     "name": "stdout",
     "output_type": "stream",
     "text": [
      "KeyError https://tienda.falabella.com.pe/falabella-pe/category/CATG14332/Artículos-para-el-cuidado-de-la-nariz\n",
      "KeyError https://tienda.falabella.com.pe/falabella-pe/category/CATG14375/Glucómetros\n",
      "KeyError https://tienda.falabella.com.pe/falabella-pe/category/CATG14336/Aceites-corporales\n",
      "KeyError https://tienda.falabella.com.pe/falabella-pe/category/CATG14338/Anticonceptivos-para-Hombre\n",
      "KeyError https://tienda.falabella.com.pe/falabella-pe/category/CATG14347/Lubricantes-y-humectantes\n",
      "KeyError https://tienda.falabella.com.pe/falabella-pe/category/CATG14349/Potencializadores\n",
      "KeyError https://tienda.falabella.com.pe/falabella-pe/category/CATG33641/Equipamiento-medico\n",
      "KeyError https://tienda.falabella.com.pe/falabella-pe/category/CATG33642/Insumos-medicos\n",
      "KeyError https://tienda.falabella.com.pe/falabella-pe/category/CATG14352/Equipos-de-movilidad\n"
     ]
    }
   ],
   "source": [
    "scraper = ScraperFalabella()\n",
    "scraper.enter_website(\"https://tienda.falabella.com.pe/falabella-pe\")\n",
    "scraper.close_popups()\n",
    "#df_cat = scraper.get_category_info()\n",
    "# df = scraper.get_subcategory_info(links)\n",
    "# df_2 = scraper.get_subcategory_info(df[\"Link_1\"])\n",
    "# df_3 = scraper.get_subcategory_info(df_2[\"Link_2\"])\n",
    "# df_4 = scraper.get_subcategory_info(df_3[\"Link_3\"])\n",
    "# df_5 = scraper.get_subcategory_info(df_4[\"Link_4\"])"
   ]
  },
  {
   "cell_type": "code",
   "execution_count": 433,
   "id": "b8fba6e1",
   "metadata": {},
   "outputs": [],
   "source": [
    "df_4.to_excel(\"subcategory_4.xlsx\",encoding=\"utf-8-sig\")"
   ]
  },
  {
   "cell_type": "code",
   "execution_count": 436,
   "id": "359c95f6",
   "metadata": {},
   "outputs": [],
   "source": [
    "df_merge = merge(df_cat, df, left_on='Root', right_on='Link', how=\"left\")\n",
    "df_merge = merge(df_merge, df_2, left_on='Link_1', right_on='Link_1', how=\"left\")\n",
    "df_merge = merge(df_merge, df_3, left_on='Link_2', right_on='Link_2', how=\"left\")\n",
    "df_merge = merge(df_merge, df_4, left_on='Link_3', right_on='Link_3', how=\"left\")\n",
    "df_merge.drop(\"Root\", axis = 1, inplace=True)"
   ]
  },
  {
   "cell_type": "code",
   "execution_count": 443,
   "id": "5d186a65",
   "metadata": {},
   "outputs": [],
   "source": [
    "index_list = list(range(395, 509))\n",
    "df_merge.drop(df_merge.index[index_list], inplace =True)"
   ]
  },
  {
   "cell_type": "code",
   "execution_count": 444,
   "id": "373b393c",
   "metadata": {},
   "outputs": [],
   "source": [
    "df_merge.reset_index(drop=True, inplace=True)"
   ]
  },
  {
   "cell_type": "code",
   "execution_count": 489,
   "id": "7263614c",
   "metadata": {},
   "outputs": [],
   "source": [
    "df_merge.to_excel(\"Falabella_category.xlsx\",encoding=\"utf-8-sig\")"
   ]
  },
  {
   "cell_type": "code",
   "execution_count": 508,
   "id": "7fdd0ff4",
   "metadata": {},
   "outputs": [],
   "source": [
    "df_fixed = read_excel(\"Falabella_category.xlsx\")"
   ]
  },
  {
   "cell_type": "code",
   "execution_count": 509,
   "id": "aad6eb5f",
   "metadata": {},
   "outputs": [],
   "source": [
    "df_fixed.drop(\"Unnamed: 0\", axis=1,inplace=True)"
   ]
  },
  {
   "cell_type": "code",
   "execution_count": 265,
   "id": "460a10f9",
   "metadata": {},
   "outputs": [],
   "source": [
    "df_sub_sub = df_sub_sub.dropna(how=\"any\")"
   ]
  },
  {
   "cell_type": "code",
   "execution_count": 510,
   "id": "7fe514e3",
   "metadata": {},
   "outputs": [],
   "source": [
    "df_old = df_fixed.stack().groupby(level=0).apply(list).tolist()"
   ]
  },
  {
   "cell_type": "code",
   "execution_count": 511,
   "id": "dcac8646",
   "metadata": {},
   "outputs": [],
   "source": [
    "whole_links = [x[-1] for x in df_old]"
   ]
  },
  {
   "cell_type": "code",
   "execution_count": 504,
   "id": "81c656d2",
   "metadata": {},
   "outputs": [
    {
     "name": "stdout",
     "output_type": "stream",
     "text": [
      "34\n"
     ]
    }
   ],
   "source": [
    "old_size = len(whole_links)\n",
    "whole_links = list(set(whole_links))\n",
    "new_size = len(whole_links)\n",
    "print(old_size - new_size)"
   ]
  },
  {
   "cell_type": "code",
   "execution_count": 512,
   "id": "bccb518b",
   "metadata": {
    "scrolled": false
   },
   "outputs": [
    {
     "data": {
      "text/plain": [
       "{'https://tienda.falabella.com.pe/falabella-pe/category/CATG14322/Termómetros',\n",
       " 'https://tienda.falabella.com.pe/falabella-pe/category/CATG14331/Artículos-para-dejar-de-fumar',\n",
       " 'https://tienda.falabella.com.pe/falabella-pe/category/CATG14332/Artículos-para-el-cuidado-de-la-nariz',\n",
       " 'https://tienda.falabella.com.pe/falabella-pe/category/CATG14333/Artículos-para-el-cuidado-de-las-orejas',\n",
       " 'https://tienda.falabella.com.pe/falabella-pe/category/CATG14334/Artículos-para-el-cuidado-de-los-ojos-y-lentes',\n",
       " 'https://tienda.falabella.com.pe/falabella-pe/category/CATG14336/Aceites-corporales',\n",
       " 'https://tienda.falabella.com.pe/falabella-pe/category/CATG14338/Anticonceptivos-para-Hombre',\n",
       " 'https://tienda.falabella.com.pe/falabella-pe/category/CATG14339/Anticonceptivos-para-Mujer',\n",
       " 'https://tienda.falabella.com.pe/falabella-pe/category/CATG14342/Estimuladores-Sexuales',\n",
       " 'https://tienda.falabella.com.pe/falabella-pe/category/CATG14344/Juguetes-Sexuales',\n",
       " 'https://tienda.falabella.com.pe/falabella-pe/category/CATG14347/Lubricantes-y-humectantes',\n",
       " 'https://tienda.falabella.com.pe/falabella-pe/category/CATG14349/Potencializadores',\n",
       " 'https://tienda.falabella.com.pe/falabella-pe/category/CATG14351/Vibradores-y-Dildos',\n",
       " 'https://tienda.falabella.com.pe/falabella-pe/category/CATG14352/Equipos-de-movilidad',\n",
       " 'https://tienda.falabella.com.pe/falabella-pe/category/CATG14353/Equipos-ortopédicos',\n",
       " 'https://tienda.falabella.com.pe/falabella-pe/category/CATG14356/Mascarillas',\n",
       " 'https://tienda.falabella.com.pe/falabella-pe/category/CATG14357/Homeopatía',\n",
       " 'https://tienda.falabella.com.pe/falabella-pe/category/CATG14365/Aromaterapia-y-spa',\n",
       " 'https://tienda.falabella.com.pe/falabella-pe/category/CATG14373/Rehabilitación-calor-y-frío',\n",
       " 'https://tienda.falabella.com.pe/falabella-pe/category/CATG14375/Glucómetros',\n",
       " 'https://tienda.falabella.com.pe/falabella-pe/category/CATG14376/Oxímetros',\n",
       " 'https://tienda.falabella.com.pe/falabella-pe/category/CATG14387/Suplementos',\n",
       " 'https://tienda.falabella.com.pe/falabella-pe/category/CATG14388/Vitaminas',\n",
       " 'https://tienda.falabella.com.pe/falabella-pe/category/CATG33641/Equipamiento-medico',\n",
       " 'https://tienda.falabella.com.pe/falabella-pe/category/CATG33642/Insumos-medicos',\n",
       " 'https://tienda.falabella.com.pe/falabella-pe/category/CATG33643/Otros-Monitores-de-salud',\n",
       " 'https://tienda.falabella.com.pe/falabella-pe/category/CATG33811/Juego-de-dormitorio-1.5-Plazas',\n",
       " 'https://tienda.falabella.com.pe/falabella-pe/category/CATG33812/Juego-de-dormitorio-2-Plazas',\n",
       " 'https://tienda.falabella.com.pe/falabella-pe/category/CATG33813/Juego-de-dormitorio-King',\n",
       " 'https://tienda.falabella.com.pe/falabella-pe/category/CATG33814/Juego-de-dormitorio-Queen',\n",
       " 'https://tienda.falabella.com.pe/falabella-pe/category/cat12990589/Balanzas'}"
      ]
     },
     "execution_count": 512,
     "metadata": {},
     "output_type": "execute_result"
    }
   ],
   "source": [
    "visited = set()\n",
    "dup = {x for x in whole_links if x in visited or (visited.add(x) or False)}\n",
    "dup"
   ]
  },
  {
   "cell_type": "code",
   "execution_count": 519,
   "id": "a55cc3a9",
   "metadata": {},
   "outputs": [
    {
     "name": "stdout",
     "output_type": "stream",
     "text": [
      "Especiales Especial Tecnología\n",
      "Belleza, higiene y salud Salud\n",
      "----------------------------------------------------------------------\n",
      "Especiales Especial Tecnología\n",
      "Belleza, higiene y salud Salud\n",
      "----------------------------------------------------------------------\n",
      "Especiales Especial Tecnología\n",
      "Belleza, higiene y salud Salud\n",
      "----------------------------------------------------------------------\n",
      "Especiales Especial Tecnología\n",
      "Belleza, higiene y salud Salud\n",
      "----------------------------------------------------------------------\n",
      "Especiales Especial Tecnología\n",
      "Belleza, higiene y salud Salud\n",
      "----------------------------------------------------------------------\n",
      "Especiales Especial Tecnología\n",
      "Belleza, higiene y salud Salud\n",
      "----------------------------------------------------------------------\n",
      "Especiales Especial Tecnología\n",
      "Belleza, higiene y salud Salud\n",
      "----------------------------------------------------------------------\n",
      "Especiales Especial Tecnología\n",
      "Belleza, higiene y salud Salud\n",
      "----------------------------------------------------------------------\n",
      "Especiales Especial Tecnología\n",
      "Belleza, higiene y salud Salud\n",
      "----------------------------------------------------------------------\n",
      "Dormitorio Juego de dormitorio\n",
      "Especiales Especial Hogar\n",
      "----------------------------------------------------------------------\n",
      "Dormitorio Juego de dormitorio\n",
      "Especiales Especial Hogar\n",
      "----------------------------------------------------------------------\n",
      "Especiales Especial Tecnología\n",
      "Belleza, higiene y salud Salud\n",
      "----------------------------------------------------------------------\n",
      "Especiales Especial Tecnología\n",
      "Belleza, higiene y salud Salud\n",
      "----------------------------------------------------------------------\n",
      "Especiales Especial Tecnología\n",
      "Belleza, higiene y salud Salud\n",
      "----------------------------------------------------------------------\n",
      "Especiales Especial Tecnología\n",
      "Belleza, higiene y salud Salud\n",
      "----------------------------------------------------------------------\n",
      "Especiales Especial Tecnología\n",
      "Belleza, higiene y salud Salud\n",
      "----------------------------------------------------------------------\n",
      "Especiales Especial Tecnología\n",
      "Belleza, higiene y salud Salud\n",
      "----------------------------------------------------------------------\n",
      "Especiales Especial Tecnología\n",
      "Belleza, higiene y salud Salud\n",
      "----------------------------------------------------------------------\n",
      "Especiales Especial Tecnología\n",
      "Belleza, higiene y salud Salud\n",
      "----------------------------------------------------------------------\n",
      "Especiales Especial Tecnología\n",
      "Belleza, higiene y salud Salud\n",
      "----------------------------------------------------------------------\n",
      "Especiales Especial Tecnología\n",
      "Belleza, higiene y salud Salud\n",
      "----------------------------------------------------------------------\n",
      "Especiales Especial Tecnología\n",
      "Belleza, higiene y salud Salud\n",
      "----------------------------------------------------------------------\n",
      "Especiales Especial Tecnología\n",
      "Belleza, higiene y salud Salud\n",
      "----------------------------------------------------------------------\n",
      "Especiales Especial Tecnología\n",
      "Belleza, higiene y salud Salud\n",
      "----------------------------------------------------------------------\n",
      "Especiales Especial Tecnología\n",
      "Belleza, higiene y salud Salud\n",
      "----------------------------------------------------------------------\n",
      "Dormitorio Juego de dormitorio\n",
      "Especiales Especial Hogar\n",
      "----------------------------------------------------------------------\n",
      "Especiales Especial Tecnología\n",
      "Belleza, higiene y salud Salud\n",
      "----------------------------------------------------------------------\n",
      "Dormitorio Juego de dormitorio\n",
      "Especiales Especial Hogar\n",
      "----------------------------------------------------------------------\n",
      "Especiales Especial Tecnología\n",
      "Belleza, higiene y salud Salud\n",
      "----------------------------------------------------------------------\n",
      "Especiales Especial Tecnología\n",
      "Belleza, higiene y salud Salud\n",
      "----------------------------------------------------------------------\n",
      "Especiales Especial Tecnología\n",
      "Belleza, higiene y salud Salud\n",
      "----------------------------------------------------------------------\n"
     ]
    }
   ],
   "source": [
    "for dups in list(dup):\n",
    "    for item in df_old:\n",
    "        if item[-1] == dups:\n",
    "            print(item[0], item[2])\n",
    "    print(\"----------------------------------------------------------------------\")"
   ]
  }
 ],
 "metadata": {
  "kernelspec": {
   "display_name": "Python 3 (ipykernel)",
   "language": "python",
   "name": "python3"
  },
  "language_info": {
   "codemirror_mode": {
    "name": "ipython",
    "version": 3
   },
   "file_extension": ".py",
   "mimetype": "text/x-python",
   "name": "python",
   "nbconvert_exporter": "python",
   "pygments_lexer": "ipython3",
   "version": "3.8.5"
  }
 },
 "nbformat": 4,
 "nbformat_minor": 5
}
