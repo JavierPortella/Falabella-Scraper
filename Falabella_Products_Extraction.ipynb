{
 "cells": [
  {
   "cell_type": "code",
   "execution_count": 21,
   "id": "23c26e62",
   "metadata": {},
   "outputs": [],
   "source": [
    "from json import loads\n",
    "from pandas import DataFrame, merge, read_excel\n",
    "from selenium.webdriver import Chrome, ChromeOptions\n",
    "from selenium.webdriver.common.service import Service\n",
    "from webdriver_manager.chrome import ChromeDriverManager\n",
    "from selenium.webdriver.common.by import By\n",
    "from selenium.webdriver.support import expected_conditions as EC\n",
    "from selenium.webdriver.support.wait import WebDriverWait\n",
    "from selenium.common.exceptions import ElementNotInteractableException, NoSuchElementException, StaleElementReferenceException, TimeoutException\n",
    "from re import findall\n",
    "from time import sleep"
   ]
  },
  {
   "cell_type": "code",
   "execution_count": 22,
   "id": "fb502a1b",
   "metadata": {},
   "outputs": [],
   "source": [
    "class ScraperFalabellaCategory:\n",
    "    def __init__(self):\n",
    "        chrome_options = ChromeOptions()\n",
    "        prefs = {\"profile.default_content_setting_values.notifications\": 2}\n",
    "        chrome_options.add_experimental_option(\"prefs\", prefs)\n",
    "        self._driver = Chrome(\n",
    "            ChromeDriverManager().install(),\n",
    "            options=chrome_options\n",
    "        )\n",
    "        self._wait = WebDriverWait(self._driver, 8)\n",
    "\n",
    "    def enter_website(self, url):\n",
    "        self._driver.get(url)\n",
    "        self._driver.maximize_window()\n",
    "\n",
    "    def get_element(self, selector, path):\n",
    "        return self._wait.until(lambda x: x.find_element(selector, path))\n",
    "    \n",
    "    def get_elements(self, selector, path):\n",
    "        return self._wait.until(lambda x: x.find_elements(selector, path))\n",
    "        \n",
    "    def close_popups(self):\n",
    "        self.get_element(By.ID, \"testId-accept-cookies-btn\").click()\n",
    "        #self.get_element(By.CLASS_NAME, \"dy-lb-close\").click()\n",
    "        \n",
    "    def extract_products(self, links):\n",
    "        product_info={\n",
    "            \"Link\": [],\n",
    "            \"Nombre\": [],\n",
    "            \"Vendedor\": [],\n",
    "            \"Precio Regular\": [],\n",
    "            \"Precio Descuento\": [],\n",
    "            \"Precio Descuento Tarjeta\": [],\n",
    "            \"Marca\": [],\n",
    "            \"Shipping Details\": []\n",
    "        }\n",
    "        self._driver.get(links[0] + \"?facetSelected=true&f.derived.variant.sellerId=FALABELLA\")\n",
    "        self.get_element(By.XPATH, \"//button[@class='Zone-module_modal-close__32xk3']\").click()\n",
    "        for link in links:\n",
    "            self._driver.get(link + \"?facetSelected=true&f.derived.variant.sellerId=FALABELLA\")\n",
    "            visible = True\n",
    "            while visible:\n",
    "                products = self.get_elements(By.XPATH, \"//div[@class='jsx-1327784995 jsx-97019337 pod pod-4_GRID']\")\n",
    "                for product in products:\n",
    "                    main_info = product.find_elements(By.XPATH, \".//b[@class]\")\n",
    "                    product_info[\"Link\"].append(link)\n",
    "                    product_info[\"Marca\"].append(main_info[0].text)\n",
    "                    product_info[\"Nombre\"].append(main_info[1].text)\n",
    "                    product_info[\"Vendedor\"].append(main_info[2].text)\n",
    "                    try:\n",
    "                        price_cmr = product.find_element(By.XPATH, \".//span[@class='copy10 primary high jsx-2889528833 normal      line-height-22']\").text\n",
    "                    except (StaleElementReferenceException, NoSuchElementException) as error:\n",
    "                        price_cmr = None\n",
    "\n",
    "                    try:\n",
    "                        normal_price = product.find_element(By.XPATH, \".//span[@class='copy3 septenary medium jsx-2889528833 normal    crossed  line-height-17']\").text\n",
    "                    except (StaleElementReferenceException, NoSuchElementException) as error:\n",
    "                        normal_price = None\n",
    "\n",
    "                    try:\n",
    "                        price_internet = product.find_element(By.XPATH, \".//span[@class='copy10 primary medium jsx-2889528833 normal      line-height-22']\").text\n",
    "                    except (StaleElementReferenceException, NoSuchElementException) as error:\n",
    "                        price_internet = None\n",
    "\n",
    "                    if not normal_price:\n",
    "                        normal_price = price_internet\n",
    "                        price_internet = None\n",
    "\n",
    "                    product_info[\"Precio Descuento\"].append(price_internet)\n",
    "                    product_info[\"Precio Descuento Tarjeta\"].append(price_cmr)\n",
    "                    product_info[\"Precio Regular\"].append(normal_price)\n",
    "\n",
    "                    shipping_details = product.find_elements(By.XPATH, \".//span[@class='jsx-2122847726 copy4 primary  jsx-2889528833 normal       shipping-text ']\")\n",
    "                    shipping_list = [shipping_details[0].text]\n",
    "                    try:\n",
    "                        shipping_list.append(shipping_details[1].text)\n",
    "                    except IndexError as error:\n",
    "                        pass\n",
    "                    product_info[\"Shipping Details\"].append(shipping_list)\n",
    "                    current_link = self._driver.execute_script(\"return document.URL\")\n",
    "                try:\n",
    "                    self._driver.find_element(By.XPATH, \"//button[@id='testId-pagination-top-arrow-right']\").click()\n",
    "                    self._wait.until(EC.url_changes(current_link))\n",
    "                except NoSuchElementException as error:\n",
    "                    visible = False\n",
    "                        \n",
    "        return DataFrame(product_info)\n",
    "\n",
    "    def extract_products_v2(self, links):\n",
    "        product_info={\n",
    "            \"Link\": [],\n",
    "            \"Nombre\": [],\n",
    "            \"Vendedor\": [],\n",
    "            \"Precio Regular\": [],\n",
    "            \"Precio Descuento\": [],\n",
    "            \"Precio Descuento Tarjeta\": [],\n",
    "            \"Marca\": [],\n",
    "            \"Despacho\": [],\n",
    "            \"Retiro\": []\n",
    "        }\n",
    "        \n",
    "        \n",
    "        internet_price=None\n",
    "        normal_price=None\n",
    "        cmr_price=None\n",
    "        for price in data_json[\"props\"][\"pageProps\"][\"results\"][0][\"prices\"]:\n",
    "            price_type = price[\"type\"]\n",
    "            if price_type == \"internetPrice\":\n",
    "                internet_price = price[\"price\"][0]\n",
    "            elif price_type == \"normalPrice\":\n",
    "                normal_price = price[\"price\"][0]\n",
    "            else:\n",
    "                cmr_price = price[\"price\"][0]\n",
    "                    "
   ]
  },
  {
   "cell_type": "code",
   "execution_count": 23,
   "id": "615f8490",
   "metadata": {},
   "outputs": [],
   "source": [
    "scraper = ScraperFalabellaCategory()\n",
    "scraper.enter_website(\"https://tienda.falabella.com.pe/falabella-pe\")\n",
    "scraper.close_popups()\n",
    "df_0 = scraper.extract_products([\"https://tienda.falabella.com.pe/falabella-pe/category/cat7350588/Polos-y-Blusas-Niñas\"])"
   ]
  },
  {
   "cell_type": "code",
   "execution_count": 25,
   "id": "77f42bb1",
   "metadata": {},
   "outputs": [],
   "source": [
    "df_0.to_csv(\"Product_sample.csv\", index=False, encoding=\"utf-8-sig\")"
   ]
  },
  {
   "cell_type": "code",
   "execution_count": 48,
   "id": "4b6e1d68",
   "metadata": {},
   "outputs": [],
   "source": [
    "products = scraper.get_elements(By.XPATH, \"//div[@class='jsx-1327784995 jsx-97019337 pod pod-4_GRID']\")\n",
    "product = products[9]"
   ]
  },
  {
   "cell_type": "code",
   "execution_count": 76,
   "id": "5ef71ea4",
   "metadata": {},
   "outputs": [],
   "source": [
    "main_info = product.find_elements(By.XPATH, \".//b\")\n",
    "price_cmr = product.find_element(By.XPATH, \".//span[@class='copy10 primary high jsx-2889528833 normal      line-height-22']\")\n",
    "price_internet = product.find_element(By.XPATH, \".//span[@class='copy10 primary medium jsx-2889528833 normal      line-height-22']\")\n",
    "normal_price = product.find_element(By.XPATH, \".//span[@class='copy3 septenary medium jsx-2889528833 normal    crossed  line-height-17']\")\n",
    "flags = product.find_elements(By.XPATH, \".//span[@class='jsx-2122847726 copy4 primary  jsx-2889528833 normal       shipping-text ']\")"
   ]
  },
  {
   "cell_type": "code",
   "execution_count": 73,
   "id": "ebf600c8",
   "metadata": {},
   "outputs": [
    {
     "name": "stdout",
     "output_type": "stream",
     "text": [
      "INDURAMA\n",
      "CONGELADOR CI-320GR\n",
      "Por Falabella\n",
      "S/ 1,399\n",
      "S/ 1,499\n",
      "S/ 1,899\n"
     ]
    }
   ],
   "source": [
    "print(main_info[0].text)\n",
    "print(main_info[1].text)\n",
    "print(main_info[2].text)\n",
    "print(price_cmr.text)\n",
    "print(price_internet.text)\n",
    "print(normal_price.text)"
   ]
  },
  {
   "cell_type": "code",
   "execution_count": 79,
   "id": "e72fbe2a",
   "metadata": {},
   "outputs": [
    {
     "data": {
      "text/plain": [
       "'Retiro en tienda'"
      ]
     },
     "execution_count": 79,
     "metadata": {},
     "output_type": "execute_result"
    }
   ],
   "source": [
    "flags[0].text"
   ]
  },
  {
   "cell_type": "code",
   "execution_count": 3,
   "id": "3b1c36b2",
   "metadata": {},
   "outputs": [],
   "source": [
    "df = read_excel(\"Falabella_category.xlsx\")"
   ]
  },
  {
   "cell_type": "code",
   "execution_count": 5,
   "id": "02b791a0",
   "metadata": {},
   "outputs": [],
   "source": [
    "df.drop(\"Unnamed: 0\", axis=1, inplace=True)"
   ]
  },
  {
   "cell_type": "code",
   "execution_count": 9,
   "id": "28a47263",
   "metadata": {},
   "outputs": [],
   "source": [
    "df_max_level = df[df[\"Name\"] == \"Niños y Juguetería\"].stack().groupby(level=0).apply(list).tolist()"
   ]
  },
  {
   "cell_type": "code",
   "execution_count": 12,
   "id": "ebb21adc",
   "metadata": {},
   "outputs": [],
   "source": [
    "links = [item[-1] for item in df_max_level]"
   ]
  },
  {
   "cell_type": "code",
   "execution_count": 110,
   "id": "4794aadf",
   "metadata": {},
   "outputs": [
    {
     "data": {
      "text/plain": [
       "['https://tienda.falabella.com.pe/falabella-pe/category/cat7350588/Polos-y-Blusas-Niñas']"
      ]
     },
     "execution_count": 110,
     "metadata": {},
     "output_type": "execute_result"
    }
   ],
   "source": [
    "links[:1]"
   ]
  },
  {
   "cell_type": "code",
   "execution_count": 109,
   "id": "c22f2b19",
   "metadata": {},
   "outputs": [
    {
     "data": {
      "text/plain": [
       "['https://tienda.falabella.com.pe/falabella-pe/category/cat7350588/Polos-y-Blusas-Niñas',\n",
       " 'https://tienda.falabella.com.pe/falabella-pe/category/cat7350589/Faldas-y-Vestidos-Niñas',\n",
       " 'https://tienda.falabella.com.pe/falabella-pe/category/cat7350591/Sweaters-y-Polerones-Niñas',\n",
       " 'https://tienda.falabella.com.pe/falabella-pe/category/cat14620485/Jeans-y-Pantalones-Niñas',\n",
       " 'https://tienda.falabella.com.pe/falabella-pe/category/cat7350593/Ropa-Interior-y-Pijamas-Niñas',\n",
       " 'https://tienda.falabella.com.pe/falabella-pe/category/cat7350590/Shorts-Niñas',\n",
       " 'https://tienda.falabella.com.pe/falabella-pe/category/cat7350592/Casacas-y-abrigos-Niñas',\n",
       " 'https://tienda.falabella.com.pe/falabella-pe/category/cat16640469/Leggins',\n",
       " 'https://tienda.falabella.com.pe/falabella-pe/category/cat14620479/Buzos-y-Conjuntos-Niñas',\n",
       " 'https://tienda.falabella.com.pe/falabella-pe/category/cat11180470/Accesorios',\n",
       " 'https://tienda.falabella.com.pe/falabella-pe/category/CATG15488/Jardineras-Niñas',\n",
       " 'https://tienda.falabella.com.pe/falabella-pe/category/cat7350594/Ropa-de-Baño-y-Bikinis-Niñas',\n",
       " 'https://tienda.falabella.com.pe/falabella-pe/category/CATG15487/Relojes-niña',\n",
       " 'https://tienda.falabella.com.pe/falabella-pe/category/cat7350567/Polos-y-Camisas-Niños',\n",
       " 'https://tienda.falabella.com.pe/falabella-pe/category/cat14620481/Jeans-y-Pantalones-Niños',\n",
       " 'https://tienda.falabella.com.pe/falabella-pe/category/cat7350568/Shorts-Niños',\n",
       " 'https://tienda.falabella.com.pe/falabella-pe/category/cat7350571/Ropa-Interior-y-Pijamas-Niños',\n",
       " 'https://tienda.falabella.com.pe/falabella-pe/category/cat7350569/Sweaters-y-Polerones-Niños',\n",
       " 'https://tienda.falabella.com.pe/falabella-pe/category/cat14620478/Buzos-y-Conjuntos-Niños',\n",
       " 'https://tienda.falabella.com.pe/falabella-pe/category/cat7350570/Casacas-y-abrigos-Niños',\n",
       " 'https://tienda.falabella.com.pe/falabella-pe/category/cat7350572/Ropa-de-Baño-Niños',\n",
       " 'https://tienda.falabella.com.pe/falabella-pe/category/cat11180471/Accesorios',\n",
       " 'https://tienda.falabella.com.pe/falabella-pe/category/CATG15489/Relojes-niño',\n",
       " 'https://tienda.falabella.com.pe/falabella-pe/category/cat6630537/Zapatillas-Niña',\n",
       " 'https://tienda.falabella.com.pe/falabella-pe/category/CATG15496/Zapatos-Niña',\n",
       " 'https://tienda.falabella.com.pe/falabella-pe/category/CATG34213/Pantuflas-Niña',\n",
       " 'https://tienda.falabella.com.pe/falabella-pe/category/cat6630536/Zapatillas-Niño',\n",
       " 'https://tienda.falabella.com.pe/falabella-pe/category/CATG15497/Zapatos-Niño',\n",
       " 'https://tienda.falabella.com.pe/falabella-pe/category/CATG34255/Pantuflas-Niño',\n",
       " 'https://tienda.falabella.com.pe/falabella-pe/category/CATG15494/Poleras-Deportivas-Infantiles',\n",
       " 'https://tienda.falabella.com.pe/falabella-pe/category/CATG15492/Calzas-y-Petos-Infantiles',\n",
       " 'https://tienda.falabella.com.pe/falabella-pe/category/CATG15491/Buzos-y-Shorts-Infantiles',\n",
       " 'https://tienda.falabella.com.pe/falabella-pe/category/CATG15493/Parkas-y-Cortavientos-Infantiles',\n",
       " 'https://tienda.falabella.com.pe/falabella-pe/category/CATG15495/Polerones-Deportivos-Infantiles',\n",
       " 'https://tienda.falabella.com.pe/falabella-pe/category/CATG15490/Accesorios-Deportivos-Infantiles',\n",
       " 'https://tienda.falabella.com.pe/falabella-pe/category/CATG15500/Zapatos-Escolares-Niñas',\n",
       " 'https://tienda.falabella.com.pe/falabella-pe/category/CATG15501/Zapatos-Escolares-Niños',\n",
       " 'https://tienda.falabella.com.pe/falabella-pe/category/cat6140462/Mochilas',\n",
       " 'https://tienda.falabella.com.pe/falabella-pe/category/cat11830509/Loncheras',\n",
       " 'https://tienda.falabella.com.pe/falabella-pe/category/CATG34280/Zapatillas-Escolares-Niño',\n",
       " 'https://tienda.falabella.com.pe/falabella-pe/category/CATG34279/Zapatillas-Escolares-Niña',\n",
       " 'https://tienda.falabella.com.pe/falabella-pe/category/CATG15499/Uniformes-Escolares-Niños',\n",
       " 'https://tienda.falabella.com.pe/falabella-pe/category/CATG15498/Uniformes-Escolares-Niñas']"
      ]
     },
     "execution_count": 109,
     "metadata": {},
     "output_type": "execute_result"
    }
   ],
   "source": [
    "links"
   ]
  },
  {
   "cell_type": "code",
   "execution_count": 80,
   "id": "a0d91857",
   "metadata": {},
   "outputs": [],
   "source": [
    "data = scraper.get_element(By.XPATH, \"//script[@id='__NEXT_DATA__']\")"
   ]
  },
  {
   "cell_type": "code",
   "execution_count": 82,
   "id": "da5a43f1",
   "metadata": {},
   "outputs": [],
   "source": [
    "data_json = loads(data.get_attribute(\"text\"))"
   ]
  },
  {
   "cell_type": "code",
   "execution_count": 88,
   "id": "9d227f8c",
   "metadata": {},
   "outputs": [
    {
     "data": {
      "text/plain": [
       "dict_keys(['results', 'layout', 'facets', 'baseFacetsURL', 'appliedFacets', 'searchTerm', 'pagination', 'sortOptions', 'autoCorrections', 'availabilityFacets', 'currentLocationId', 'site', 'categoryParentDetails', 'breadCrumbData', 'metadata', 'categoryBannerHtml', 'canonicalUrl', 'currentUrl', 'pageData', 'isCatSodimacFaviconExp'])"
      ]
     },
     "execution_count": 88,
     "metadata": {},
     "output_type": "execute_result"
    }
   ],
   "source": [
    "data_json[\"props\"][\"pageProps\"].keys()"
   ]
  },
  {
   "cell_type": "code",
   "execution_count": 92,
   "id": "14a44f24",
   "metadata": {},
   "outputs": [
    {
     "data": {
      "text/plain": [
       "{'productId': '881976441',\n",
       " 'skuId': '881976441',\n",
       " 'topSpecifications': ['Capacidad total útil: 443 lt',\n",
       "  'Eficiencia energética: B',\n",
       "  'Dispensador de agua: No',\n",
       "  'No Frost: Sí',\n",
       "  'Ice maker interior: Sí'],\n",
       " 'merchantCategoryId': 'J11060103',\n",
       " 'displayName': 'Refrigeradora Bottom Freezer 443 L WRE57AKBPE',\n",
       " 'productType': 'REGULAR',\n",
       " 'viewTemplate': 'NORMAL',\n",
       " 'url': 'https://www.falabella.com.pe/falabella-pe/product/881976441/Refrigeradora-Bottom-Freezer-443-L-WRE57AKBPE',\n",
       " 'brand': 'WHIRLPOOL',\n",
       " 'media': {'id': '881976441',\n",
       "  'type': 'PRODUCT',\n",
       "  'onImageHover': 'FETCH_SECOND_IMAGE'},\n",
       " 'mediaUrls': ['https://falabella.scene7.com/is/image/FalabellaPE/881976441_1',\n",
       "  'https://falabella.scene7.com/is/image/FalabellaPE/881976441_2',\n",
       "  'https://falabella.scene7.com/is/image/FalabellaPE/881976441_3',\n",
       "  'https://falabella.scene7.com/is/image/FalabellaPE/881976441_4',\n",
       "  'https://falabella.scene7.com/is/image/FalabellaPE/881976441_5',\n",
       "  'https://falabella.scene7.com/is/image/FalabellaPE/881976441_6'],\n",
       " 'discountBadge': {'label': '-30%',\n",
       "  'styles': {'backgroundColor': '#EB0029', 'textColor': '#ffffff'}},\n",
       " 'badges': [],\n",
       " 'multipurposeBadges': [],\n",
       " 'meatStickers': [],\n",
       " 'prices': [{'label': '',\n",
       "   'icons': '',\n",
       "   'symbol': 'S/ ',\n",
       "   'type': 'internetPrice',\n",
       "   'crossed': False,\n",
       "   'price': ['2,999']},\n",
       "  {'label': '',\n",
       "   'icons': '',\n",
       "   'symbol': 'S/ ',\n",
       "   'type': 'normalPrice',\n",
       "   'crossed': True,\n",
       "   'price': ['4,289']}],\n",
       " 'totalReviews': '10',\n",
       " 'rating': '4.4',\n",
       " 'availability': {'homeDeliveryShipping': 'Despacho a Domicilio',\n",
       "  'pickUpFromStoreShipping': 'Retiro en tienda',\n",
       "  'internationalShipping': '',\n",
       "  'primeShipping': ''},\n",
       " 'variants': [{'type': 'COLOR', 'options': []},\n",
       "  {'type': 'SIZES', 'options': []}],\n",
       " 'sellerId': 'FALABELLA_PERU',\n",
       " 'sellerName': 'FALABELLA',\n",
       " 'offeringId': '881976441',\n",
       " 'isSponsored': True,\n",
       " 'mabaya_ad_info': 'v2_MhMKM6wuOF3LCfFofDuzHhH8PAZEMl5GRr02dWcPbwALgYmVXxvjSITdxXyojElRgkGwzv6XWrDr-TVJhSQMxp2__IwD0MVJzr7DoGy2mgfl5Zr6L8iKOXFRdgsGyQ_oB3_z7LqVuprAoFtX_6GD0ucccL5kLZM0Kefp8HQ9s4c=_ark18637091195100170cd',\n",
       " 'GSCCategoryId': ''}"
      ]
     },
     "execution_count": 92,
     "metadata": {},
     "output_type": "execute_result"
    }
   ],
   "source": [
    "data_json[\"props\"][\"pageProps\"][\"results\"][0]\n",
    "    "
   ]
  },
  {
   "cell_type": "code",
   "execution_count": 95,
   "id": "6429ae1a",
   "metadata": {},
   "outputs": [
    {
     "name": "stdout",
     "output_type": "stream",
     "text": [
      "881976441\n",
      "Refrigeradora Bottom Freezer 443 L WRE57AKBPE\n",
      "https://www.falabella.com.pe/falabella-pe/product/881976441/Refrigeradora-Bottom-Freezer-443-L-WRE57AKBPE\n",
      "WHIRLPOOL\n",
      "[{'label': '', 'icons': '', 'symbol': 'S/ ', 'type': 'internetPrice', 'crossed': False, 'price': ['2,999']}, {'label': '', 'icons': '', 'symbol': 'S/ ', 'type': 'normalPrice', 'crossed': True, 'price': ['4,289']}]\n",
      "Despacho a Domicilio\n",
      "Retiro en tienda\n",
      "FALABELLA\n"
     ]
    }
   ],
   "source": [
    "print(data_json[\"props\"][\"pageProps\"][\"results\"][0][\"productId\"])\n",
    "print(data_json[\"props\"][\"pageProps\"][\"results\"][0][\"displayName\"])\n",
    "print(data_json[\"props\"][\"pageProps\"][\"results\"][0][\"url\"])\n",
    "print(data_json[\"props\"][\"pageProps\"][\"results\"][0][\"brand\"])\n",
    "\n",
    "for price in data_json[\"props\"][\"pageProps\"][\"results\"][0][\"prices\"]:\n",
    "    price_type = price[\"type\"]\n",
    "    if price_type == \"internetPrice\":\n",
    "        internet_price = price[\"price\"][0]\n",
    "    elif price_type == \"normalPrice\":\n",
    "        normal_price = price[\"price\"][0]\n",
    "    else:\n",
    "        cmr_price = price[\"price\"][0]\n",
    "print(data_json[\"props\"][\"pageProps\"][\"results\"][0][\"availability\"][\"homeDeliveryShipping\"])\n",
    "print(data_json[\"props\"][\"pageProps\"][\"results\"][0][\"availability\"][\"pickUpFromStoreShipping\"])\n",
    "print(data_json[\"props\"][\"pageProps\"][\"results\"][0][\"sellerName\"])"
   ]
  },
  {
   "cell_type": "code",
   "execution_count": 97,
   "id": "acb666e6",
   "metadata": {},
   "outputs": [
    {
     "name": "stdout",
     "output_type": "stream",
     "text": [
      "755 ns ± 19.9 ns per loop (mean ± std. dev. of 7 runs, 1,000,000 loops each)\n"
     ]
    }
   ],
   "source": [
    "%%timeit\n",
    "internet_price=None\n",
    "normal_price=None\n",
    "cmr_price=None\n",
    "for price in data_json[\"props\"][\"pageProps\"][\"results\"][0][\"prices\"]:\n",
    "    price_type = price[\"type\"]\n",
    "    if price_type == \"internetPrice\":\n",
    "        internet_price = price[\"price\"][0]\n",
    "    elif price_type == \"normalPrice\":\n",
    "        normal_price = price[\"price\"][0]\n",
    "    else:\n",
    "        cmr_price = price[\"price\"][0]"
   ]
  },
  {
   "cell_type": "code",
   "execution_count": 98,
   "id": "891d9b7e",
   "metadata": {},
   "outputs": [
    {
     "name": "stdout",
     "output_type": "stream",
     "text": [
      "{'homeDeliveryShipping': 'Despacho a Domicilio', 'pickUpFromStoreShipping': 'Retiro en tienda', 'internationalShipping': '', 'primeShipping': ''}\n"
     ]
    }
   ],
   "source": [
    "print(data_json[\"props\"][\"pageProps\"][\"results\"][0][\"availability\"])"
   ]
  },
  {
   "cell_type": "code",
   "execution_count": null,
   "id": "da5c5076",
   "metadata": {},
   "outputs": [],
   "source": []
  }
 ],
 "metadata": {
  "kernelspec": {
   "display_name": "Python 3 (ipykernel)",
   "language": "python",
   "name": "python3"
  },
  "language_info": {
   "codemirror_mode": {
    "name": "ipython",
    "version": 3
   },
   "file_extension": ".py",
   "mimetype": "text/x-python",
   "name": "python",
   "nbconvert_exporter": "python",
   "pygments_lexer": "ipython3",
   "version": "3.8.5"
  }
 },
 "nbformat": 4,
 "nbformat_minor": 5
}
